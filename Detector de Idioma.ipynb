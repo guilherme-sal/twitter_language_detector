{
 "cells": [
  {
   "cell_type": "markdown",
   "metadata": {},
   "source": [
    "# DETECTOR DE IDIOMAS PARA TWITTER"
   ]
  },
  {
   "cell_type": "markdown",
   "metadata": {},
   "source": [
    "### PORTUGUÊS, INGLÊS, ESPANHOL, ALEMÃO, ITALIANO, FRANCÊS, RUSSO, ÁRABE"
   ]
  },
  {
   "cell_type": "code",
   "execution_count": 1,
   "metadata": {},
   "outputs": [],
   "source": [
    "from sklearn.model_selection import train_test_split\n",
    "from nltk.tokenize import WhitespaceTokenizer\n",
    "from sklearn.feature_extraction.text import TfidfVectorizer\n",
    "from venn import venn\n",
    "import seaborn as sns\n",
    "import matplotlib.pyplot as plt\n",
    "%matplotlib inline\n",
    "import pandas as pd\n",
    "import re\n",
    "import datetime"
   ]
  },
  {
   "cell_type": "code",
   "execution_count": 137,
   "metadata": {},
   "outputs": [],
   "source": [
    "df_PT = pd.read_csv('./BASES IDIOMAS/Português/@Estadao_tweets.csv')\n",
    "df_ES = pd.read_csv('./BASES IDIOMAS/Espanhol/@CNNE_tweets.csv')\n",
    "df_IN = pd.read_csv('./BASES IDIOMAS/Inglês/@CNN_tweets.csv')\n",
    "df_FR = pd.read_csv('./BASES IDIOMAS/Francês/@lemondefr_tweets.csv')\n",
    "df_IT = pd.read_csv('./BASES IDIOMAS/Italiano/@corriere_tweets.csv')\n",
    "df_AL = pd.read_csv('./BASES IDIOMAS/Alemão/@derspiegel_tweets.csv')\n",
    "df_RU = pd.read_csv('./BASES IDIOMAS/Russo/@kpru_tweets.csv')\n",
    "df_AR = pd.read_csv('./BASES IDIOMAS/Árabe/@AJArabic_tweets.csv')\n",
    "df_HI = pd.read_csv('./BASES IDIOMAS/Hindi/@aajtak_tweets.csv')"
   ]
  },
  {
   "cell_type": "code",
   "execution_count": 138,
   "metadata": {
    "scrolled": true
   },
   "outputs": [
    {
     "name": "stdout",
     "output_type": "stream",
     "text": [
      "<class 'pandas.core.frame.DataFrame'>\n",
      "RangeIndex: 49996 entries, 0 to 49995\n",
      "Data columns (total 9 columns):\n",
      " #   Column    Non-Null Count  Dtype \n",
      "---  ------    --------------  ----- \n",
      " 0   username  49996 non-null  object\n",
      " 1   fullname  49996 non-null  object\n",
      " 2   time      49996 non-null  object\n",
      " 3   date      49996 non-null  object\n",
      " 4   text      49996 non-null  object\n",
      " 5   link      49996 non-null  object\n",
      " 6   mentions  49996 non-null  object\n",
      " 7   hashtags  49996 non-null  object\n",
      " 8   photos    49996 non-null  object\n",
      "dtypes: object(9)\n",
      "memory usage: 3.4+ MB\n"
     ]
    }
   ],
   "source": [
    "df_HI.info()"
   ]
  },
  {
   "cell_type": "code",
   "execution_count": 139,
   "metadata": {},
   "outputs": [],
   "source": [
    "languages_dict = {'PT': df_PT,\n",
    "                    'ES':df_ES,\n",
    "                    'IN':df_IN,\n",
    "                    'FR':df_FR,\n",
    "                    'IT':df_IT,\n",
    "                    'AL':df_AL,\n",
    "                    'RU':df_RU,\n",
    "                    'AR': df_AR,\n",
    "                    'HI': df_HI}"
   ]
  },
  {
   "cell_type": "code",
   "execution_count": 140,
   "metadata": {},
   "outputs": [
    {
     "data": {
      "text/plain": [
       "dict_keys(['PT', 'ES', 'IN', 'FR', 'IT', 'AL', 'RU', 'AR', 'HI'])"
      ]
     },
     "execution_count": 140,
     "metadata": {},
     "output_type": "execute_result"
    }
   ],
   "source": [
    "languages_dict.keys()"
   ]
  },
  {
   "cell_type": "code",
   "execution_count": 141,
   "metadata": {},
   "outputs": [
    {
     "name": "stdout",
     "output_type": "stream",
     "text": [
      "DATA FRAME PT: (48870, 9)\n",
      "DATA FRAME ES: (39999, 34)\n",
      "DATA FRAME IN: (81725, 34)\n",
      "DATA FRAME FR: (49942, 9)\n",
      "DATA FRAME IT: (49988, 9)\n",
      "DATA FRAME AL: (49932, 9)\n",
      "DATA FRAME RU: (49998, 9)\n",
      "DATA FRAME AR: (49994, 9)\n",
      "DATA FRAME HI: (49996, 9)\n"
     ]
    }
   ],
   "source": [
    "for key in languages_dict:\n",
    "    print(f'DATA FRAME {key}: {languages_dict[key].shape}')"
   ]
  },
  {
   "cell_type": "code",
   "execution_count": 142,
   "metadata": {},
   "outputs": [
    {
     "name": "stdout",
     "output_type": "stream",
     "text": [
      "DATA FRAME PT: (39999, 9)\n",
      "DATA FRAME ES: (39999, 34)\n",
      "DATA FRAME IN: (39999, 34)\n",
      "DATA FRAME FR: (39999, 9)\n",
      "DATA FRAME IT: (39999, 9)\n",
      "DATA FRAME AL: (39999, 9)\n",
      "DATA FRAME RU: (39999, 9)\n",
      "DATA FRAME AR: (39999, 9)\n",
      "DATA FRAME HI: (39999, 9)\n"
     ]
    }
   ],
   "source": [
    "for key in languages_dict:\n",
    "    languages_dict[key] = languages_dict[key][:39999]\n",
    "  \n",
    "\n",
    "for key in languages_dict:\n",
    "    print(f'DATA FRAME {key}: {languages_dict[key].shape}')"
   ]
  },
  {
   "cell_type": "code",
   "execution_count": 143,
   "metadata": {},
   "outputs": [],
   "source": [
    "for key in languages_dict:\n",
    "    languages_dict[key] = languages_dict[key][['text']]"
   ]
  },
  {
   "cell_type": "code",
   "execution_count": 144,
   "metadata": {},
   "outputs": [
    {
     "data": {
      "text/html": [
       "<div>\n",
       "<style scoped>\n",
       "    .dataframe tbody tr th:only-of-type {\n",
       "        vertical-align: middle;\n",
       "    }\n",
       "\n",
       "    .dataframe tbody tr th {\n",
       "        vertical-align: top;\n",
       "    }\n",
       "\n",
       "    .dataframe thead th {\n",
       "        text-align: right;\n",
       "    }\n",
       "</style>\n",
       "<table border=\"1\" class=\"dataframe\">\n",
       "  <thead>\n",
       "    <tr style=\"text-align: right;\">\n",
       "      <th></th>\n",
       "      <th>text</th>\n",
       "    </tr>\n",
       "  </thead>\n",
       "  <tbody>\n",
       "    <tr>\n",
       "      <th>0</th>\n",
       "      <td>#CSKvMI | मुंबई इंडियंस के गेंदबाजों का कहर, च...</td>\n",
       "    </tr>\n",
       "    <tr>\n",
       "      <th>1</th>\n",
       "      <td>टीकाकरण दर की दृष्टि से दुनिया के विकासशील देश...</td>\n",
       "    </tr>\n",
       "    <tr>\n",
       "      <th>2</th>\n",
       "      <td>टक्कर मारकर मौके से फरार हुई प्रशासन की गाड़ी#...</td>\n",
       "    </tr>\n",
       "    <tr>\n",
       "      <th>3</th>\n",
       "      <td>बिहार में बढ़ रहे कोरोना के मामले #Coronavirus...</td>\n",
       "    </tr>\n",
       "    <tr>\n",
       "      <th>4</th>\n",
       "      <td>इंडिया टुडे के एंटी फेक न्यूज वॉर रूम की पड़ता...</td>\n",
       "    </tr>\n",
       "    <tr>\n",
       "      <th>...</th>\n",
       "      <td>...</td>\n",
       "    </tr>\n",
       "    <tr>\n",
       "      <th>39994</th>\n",
       "      <td>एक झटके में करोड़पति बन गया गरीब मज़दूर...#REa...</td>\n",
       "    </tr>\n",
       "    <tr>\n",
       "      <th>39995</th>\n",
       "      <td>वित्त मंत्री #NirmalaSitharaman ने कहा- आयात क...</td>\n",
       "    </tr>\n",
       "    <tr>\n",
       "      <th>39996</th>\n",
       "      <td>बच्चे ने ऐसा मॉडल बनाया कि हर कोई हैरान रह गया...</td>\n",
       "    </tr>\n",
       "    <tr>\n",
       "      <th>39997</th>\n",
       "      <td>भारत के लिए पड़ोस के हर देश से आ रहीं मुश्किले...</td>\n",
       "    </tr>\n",
       "    <tr>\n",
       "      <th>39998</th>\n",
       "      <td>म्यूज़िक कंपोज़र सलीम मर्चेंट ने भी Sonu Nigam...</td>\n",
       "    </tr>\n",
       "  </tbody>\n",
       "</table>\n",
       "<p>39999 rows × 1 columns</p>\n",
       "</div>"
      ],
      "text/plain": [
       "                                                    text\n",
       "0      #CSKvMI | मुंबई इंडियंस के गेंदबाजों का कहर, च...\n",
       "1      टीकाकरण दर की दृष्टि से दुनिया के विकासशील देश...\n",
       "2      टक्कर मारकर मौके से फरार हुई प्रशासन की गाड़ी#...\n",
       "3      बिहार में बढ़ रहे कोरोना के मामले #Coronavirus...\n",
       "4      इंडिया टुडे के एंटी फेक न्यूज वॉर रूम की पड़ता...\n",
       "...                                                  ...\n",
       "39994  एक झटके में करोड़पति बन गया गरीब मज़दूर...#REa...\n",
       "39995  वित्त मंत्री #NirmalaSitharaman ने कहा- आयात क...\n",
       "39996  बच्चे ने ऐसा मॉडल बनाया कि हर कोई हैरान रह गया...\n",
       "39997  भारत के लिए पड़ोस के हर देश से आ रहीं मुश्किले...\n",
       "39998  म्यूज़िक कंपोज़र सलीम मर्चेंट ने भी Sonu Nigam...\n",
       "\n",
       "[39999 rows x 1 columns]"
      ]
     },
     "execution_count": 144,
     "metadata": {},
     "output_type": "execute_result"
    }
   ],
   "source": [
    "languages_dict['HI']"
   ]
  },
  {
   "cell_type": "markdown",
   "metadata": {},
   "source": [
    "## Limpando os textos"
   ]
  },
  {
   "cell_type": "markdown",
   "metadata": {},
   "source": [
    "### Tirando html, pontuação e digitos..."
   ]
  },
  {
   "cell_type": "code",
   "execution_count": 145,
   "metadata": {},
   "outputs": [],
   "source": [
    "regex_html = re.compile(r'http?.*')\n",
    "regex_hashtag = re.compile(r\"#[^\\s]+\")\n",
    "regex_pic = re.compile(r\"pic.twitter[^\\s]+\")\n",
    "regex_at = re.compile(r\"@[^\\s]+\")\n",
    "regex_punctuation = re.compile(r\"[^\\w\\s]\")\n",
    "regex_line_break = re.compile(r\"(\\n)\")\n",
    "regex_alpha = re.compile(r\"\\d+\")\n",
    "regex_white_space = re.compile(r\" +\")"
   ]
  },
  {
   "cell_type": "code",
   "execution_count": 146,
   "metadata": {},
   "outputs": [],
   "source": [
    "def remove(textos, regex):\n",
    "    if type(textos) == str:\n",
    "        return regex.sub(\"\", textos)\n",
    "    else:\n",
    "        return [regex.sub(\"\", texto) for texto in textos]\n",
    "\n",
    "def subs_space(textos, regex):\n",
    "    if type(textos) == str:\n",
    "        return regex.sub(\" \", textos)\n",
    "    else:\n",
    "        return [regex.sub(\" \", texto) for texto in textos]\n",
    "\n",
    "def lower(textos):\n",
    "    if type(textos) == str:\n",
    "        return textos.lower()\n",
    "    else:\n",
    "        return [texto.lower() for texto in textos]\n",
    "    \n",
    "def text_cleaner(dataframe, column):\n",
    "\n",
    "    clean_text = []\n",
    "\n",
    "    for item in dataframe[column]:\n",
    "\n",
    "        clean = remove(item, regex_hashtag)   \n",
    "        clean = remove(clean, regex_pic)\n",
    "        clean = remove(clean, regex_at)\n",
    "        clean = remove(clean, regex_html)\n",
    "        clean = remove(clean, regex_punctuation)\n",
    "        clean = remove(clean, regex_line_break)\n",
    "        clean = remove(clean, regex_alpha)\n",
    "        clean = subs_space(clean, regex_white_space)\n",
    "        clean = lower(clean)\n",
    "\n",
    "        clean_text.append(clean)\n",
    "\n",
    "    dataframe['clean_text'] = clean_text"
   ]
  },
  {
   "cell_type": "code",
   "execution_count": 147,
   "metadata": {},
   "outputs": [],
   "source": [
    "for key in languages_dict:\n",
    "    text_cleaner(languages_dict[key], 'text')"
   ]
  },
  {
   "cell_type": "code",
   "execution_count": 148,
   "metadata": {},
   "outputs": [],
   "source": [
    "for key in languages_dict:\n",
    "    languages_dict[key]['language'] = key"
   ]
  },
  {
   "cell_type": "code",
   "execution_count": 149,
   "metadata": {},
   "outputs": [
    {
     "data": {
      "text/html": [
       "<div>\n",
       "<style scoped>\n",
       "    .dataframe tbody tr th:only-of-type {\n",
       "        vertical-align: middle;\n",
       "    }\n",
       "\n",
       "    .dataframe tbody tr th {\n",
       "        vertical-align: top;\n",
       "    }\n",
       "\n",
       "    .dataframe thead th {\n",
       "        text-align: right;\n",
       "    }\n",
       "</style>\n",
       "<table border=\"1\" class=\"dataframe\">\n",
       "  <thead>\n",
       "    <tr style=\"text-align: right;\">\n",
       "      <th></th>\n",
       "      <th>text</th>\n",
       "      <th>clean_text</th>\n",
       "      <th>language</th>\n",
       "    </tr>\n",
       "  </thead>\n",
       "  <tbody>\n",
       "    <tr>\n",
       "      <th>0</th>\n",
       "      <td>#CSKvMI | मुंबई इंडियंस के गेंदबाजों का कहर, च...</td>\n",
       "      <td>मबई इडयस क गदबज क कहर चननई क रन स पहल वकट गर ...</td>\n",
       "      <td>HI</td>\n",
       "    </tr>\n",
       "    <tr>\n",
       "      <th>1</th>\n",
       "      <td>टीकाकरण दर की दृष्टि से दुनिया के विकासशील देश...</td>\n",
       "      <td>टककरण दर क दषट स दनय क वकसशल दश क नचल आध हसस म...</td>\n",
       "      <td>HI</td>\n",
       "    </tr>\n",
       "    <tr>\n",
       "      <th>2</th>\n",
       "      <td>टक्कर मारकर मौके से फरार हुई प्रशासन की गाड़ी#...</td>\n",
       "      <td>टककर मरकर मक स फरर हई परशसन क गड</td>\n",
       "      <td>HI</td>\n",
       "    </tr>\n",
       "    <tr>\n",
       "      <th>3</th>\n",
       "      <td>बिहार में बढ़ रहे कोरोना के मामले #Coronavirus...</td>\n",
       "      <td>बहर म बढ रह करन क ममल</td>\n",
       "      <td>HI</td>\n",
       "    </tr>\n",
       "    <tr>\n",
       "      <th>4</th>\n",
       "      <td>इंडिया टुडे के एंटी फेक न्यूज वॉर रूम की पड़ता...</td>\n",
       "      <td>इडय टड क एट फक नयज वर रम क पडतल म समन आई वयरल ...</td>\n",
       "      <td>HI</td>\n",
       "    </tr>\n",
       "    <tr>\n",
       "      <th>...</th>\n",
       "      <td>...</td>\n",
       "      <td>...</td>\n",
       "      <td>...</td>\n",
       "    </tr>\n",
       "    <tr>\n",
       "      <th>39994</th>\n",
       "      <td>एक झटके में करोड़पति बन गया गरीब मज़दूर...#REa...</td>\n",
       "      <td>एक झटक म करडपत बन गय गरब मजदर</td>\n",
       "      <td>HI</td>\n",
       "    </tr>\n",
       "    <tr>\n",
       "      <th>39995</th>\n",
       "      <td>वित्त मंत्री #NirmalaSitharaman ने कहा- आयात क...</td>\n",
       "      <td>वतत मतर न कह आयत क लकर सचन क जररत तभ दश बनग आत...</td>\n",
       "      <td>HI</td>\n",
       "    </tr>\n",
       "    <tr>\n",
       "      <th>39996</th>\n",
       "      <td>बच्चे ने ऐसा मॉडल बनाया कि हर कोई हैरान रह गया...</td>\n",
       "      <td>बचच न ऐस मडल बनय क हर कई हरन रह गय</td>\n",
       "      <td>HI</td>\n",
       "    </tr>\n",
       "    <tr>\n",
       "      <th>39997</th>\n",
       "      <td>भारत के लिए पड़ोस के हर देश से आ रहीं मुश्किले...</td>\n",
       "      <td>भरत क लए पडस क हर दश स आ रह मशकल</td>\n",
       "      <td>HI</td>\n",
       "    </tr>\n",
       "    <tr>\n",
       "      <th>39998</th>\n",
       "      <td>म्यूज़िक कंपोज़र सलीम मर्चेंट ने भी Sonu Nigam...</td>\n",
       "      <td>मयजक कपजर सलम मरचट न भ sonu nigam क सपरट म य क...</td>\n",
       "      <td>HI</td>\n",
       "    </tr>\n",
       "  </tbody>\n",
       "</table>\n",
       "<p>39999 rows × 3 columns</p>\n",
       "</div>"
      ],
      "text/plain": [
       "                                                    text  \\\n",
       "0      #CSKvMI | मुंबई इंडियंस के गेंदबाजों का कहर, च...   \n",
       "1      टीकाकरण दर की दृष्टि से दुनिया के विकासशील देश...   \n",
       "2      टक्कर मारकर मौके से फरार हुई प्रशासन की गाड़ी#...   \n",
       "3      बिहार में बढ़ रहे कोरोना के मामले #Coronavirus...   \n",
       "4      इंडिया टुडे के एंटी फेक न्यूज वॉर रूम की पड़ता...   \n",
       "...                                                  ...   \n",
       "39994  एक झटके में करोड़पति बन गया गरीब मज़दूर...#REa...   \n",
       "39995  वित्त मंत्री #NirmalaSitharaman ने कहा- आयात क...   \n",
       "39996  बच्चे ने ऐसा मॉडल बनाया कि हर कोई हैरान रह गया...   \n",
       "39997  भारत के लिए पड़ोस के हर देश से आ रहीं मुश्किले...   \n",
       "39998  म्यूज़िक कंपोज़र सलीम मर्चेंट ने भी Sonu Nigam...   \n",
       "\n",
       "                                              clean_text language  \n",
       "0       मबई इडयस क गदबज क कहर चननई क रन स पहल वकट गर ...       HI  \n",
       "1      टककरण दर क दषट स दनय क वकसशल दश क नचल आध हसस म...       HI  \n",
       "2                       टककर मरकर मक स फरर हई परशसन क गड       HI  \n",
       "3                                 बहर म बढ रह करन क ममल        HI  \n",
       "4      इडय टड क एट फक नयज वर रम क पडतल म समन आई वयरल ...       HI  \n",
       "...                                                  ...      ...  \n",
       "39994                      एक झटक म करडपत बन गय गरब मजदर       HI  \n",
       "39995  वतत मतर न कह आयत क लकर सचन क जररत तभ दश बनग आत...       HI  \n",
       "39996                 बचच न ऐस मडल बनय क हर कई हरन रह गय       HI  \n",
       "39997                   भरत क लए पडस क हर दश स आ रह मशकल       HI  \n",
       "39998  मयजक कपजर सलम मरचट न भ sonu nigam क सपरट म य क...       HI  \n",
       "\n",
       "[39999 rows x 3 columns]"
      ]
     },
     "execution_count": 149,
     "metadata": {},
     "output_type": "execute_result"
    }
   ],
   "source": [
    "languages_dict['HI']"
   ]
  },
  {
   "cell_type": "markdown",
   "metadata": {},
   "source": [
    "# Separando em treino e teste"
   ]
  },
  {
   "cell_type": "code",
   "execution_count": 150,
   "metadata": {},
   "outputs": [],
   "source": [
    "language_models_dict = {}\n",
    "\n",
    "for key in languages_dict:\n",
    "    train, test = train_test_split(languages_dict[key].clean_text,\n",
    "                                          test_size = 0.2,\n",
    "                                          random_state = 123)\n",
    "    language_models_dict.update({key:[train, test]})   "
   ]
  },
  {
   "cell_type": "code",
   "execution_count": 151,
   "metadata": {},
   "outputs": [
    {
     "name": "stdout",
     "output_type": "stream",
     "text": [
      "PT: TRAIN SAMPLE SIZE 31999 TEST SAMPLE SIZE 8000\n",
      "ES: TRAIN SAMPLE SIZE 31999 TEST SAMPLE SIZE 8000\n",
      "IN: TRAIN SAMPLE SIZE 31999 TEST SAMPLE SIZE 8000\n",
      "FR: TRAIN SAMPLE SIZE 31999 TEST SAMPLE SIZE 8000\n",
      "IT: TRAIN SAMPLE SIZE 31999 TEST SAMPLE SIZE 8000\n",
      "AL: TRAIN SAMPLE SIZE 31999 TEST SAMPLE SIZE 8000\n",
      "RU: TRAIN SAMPLE SIZE 31999 TEST SAMPLE SIZE 8000\n",
      "AR: TRAIN SAMPLE SIZE 31999 TEST SAMPLE SIZE 8000\n",
      "HI: TRAIN SAMPLE SIZE 31999 TEST SAMPLE SIZE 8000\n"
     ]
    }
   ],
   "source": [
    "for key in language_models_dict:\n",
    "    print(f'{key}: TRAIN SAMPLE SIZE {len(language_models_dict[key][0])} TEST SAMPLE SIZE {len(language_models_dict[key][1])}')"
   ]
  },
  {
   "cell_type": "markdown",
   "metadata": {},
   "source": [
    "# Gerando o corpus de cada língua"
   ]
  },
  {
   "cell_type": "code",
   "execution_count": 152,
   "metadata": {},
   "outputs": [],
   "source": [
    "def generate_corpus(text_list):\n",
    "    all_text = ' '.join(text_list)\n",
    "    all_words = WhitespaceTokenizer().tokenize(all_text)\n",
    "    unique_words = set(all_words)\n",
    "    return unique_words"
   ]
  },
  {
   "cell_type": "code",
   "execution_count": 153,
   "metadata": {},
   "outputs": [],
   "source": [
    "language_corpus_dict = {}\n",
    "\n",
    "for key in language_models_dict:\n",
    "    corpus = generate_corpus(language_models_dict[key][0])\n",
    "    language_corpus_dict.update({key:corpus})\n",
    "    "
   ]
  },
  {
   "cell_type": "code",
   "execution_count": 154,
   "metadata": {},
   "outputs": [
    {
     "name": "stdout",
     "output_type": "stream",
     "text": [
      "PT CORPUS SIZE 56447\n",
      "ES CORPUS SIZE 31454\n",
      "IN CORPUS SIZE 31656\n",
      "FR CORPUS SIZE 45225\n",
      "IT CORPUS SIZE 58621\n",
      "AL CORPUS SIZE 63676\n",
      "RU CORPUS SIZE 93883\n",
      "AR CORPUS SIZE 70384\n",
      "HI CORPUS SIZE 21137\n"
     ]
    }
   ],
   "source": [
    "for key in language_corpus_dict:\n",
    "    print(f'{key} CORPUS SIZE {len(language_corpus_dict[key])}')"
   ]
  },
  {
   "cell_type": "code",
   "execution_count": 183,
   "metadata": {},
   "outputs": [
    {
     "data": {
      "image/png": "[encoded data removed]",
      "text/plain": [
       "<Figure size 1440x1440 with 1 Axes>"
      ]
     },
     "metadata": {},
     "output_type": "display_data"
    }
   ],
   "source": [
    "venn_languages_list = ['PT', 'IN', 'ES', 'RU', 'AR', 'HI'] # Escolha até seis idiomas para visualizar simultaneamente\n",
    "\n",
    "venn_dic = {}\n",
    "\n",
    "for key in language_corpus_dict:\n",
    "    if key in venn_languages_list:\n",
    "        venn_dic.update({key:language_corpus_dict[key]})\n",
    "    else:\n",
    "        pass\n",
    "    \n",
    "venn_dic\n",
    "\n",
    "ax = venn(venn_dic, fontsize=15, figsize=(20,20))\n",
    "plt.show(ax)"
   ]
  },
  {
   "cell_type": "markdown",
   "metadata": {},
   "source": [
    "## Testando o detector"
   ]
  },
  {
   "cell_type": "code",
   "execution_count": 156,
   "metadata": {},
   "outputs": [],
   "source": [
    "def language_detection(text_collection):\n",
    "    \n",
    "    detected_language = []\n",
    "    \n",
    "    for text in text_collection:\n",
    "        if text == ' ':\n",
    "            detected_language.append('Empty')\n",
    "        elif text == '':\n",
    "            detected_language.append('Empty')\n",
    "            \n",
    "        else:\n",
    "            text = WhitespaceTokenizer().tokenize(text)\n",
    "            text = set(text)\n",
    "            \n",
    "            language_score = {}\n",
    "            \n",
    "            for key in language_corpus_dict:\n",
    "                \n",
    "                score = len(text.intersection(language_corpus_dict[key]))\n",
    "                language_score.update({key:score})\n",
    "            language_winner = (max(language_score, key=language_score.get))\n",
    "            \n",
    "            if language_score[language_winner] == 0:\n",
    "            \n",
    "                detected_language.append('Other Languages')\n",
    "                \n",
    "            else:\n",
    "            \n",
    "                detected_language.append(language_winner)\n",
    "                \n",
    "    return detected_language"
   ]
  },
  {
   "cell_type": "code",
   "execution_count": 157,
   "metadata": {},
   "outputs": [
    {
     "name": "stdout",
     "output_type": "stream",
     "text": [
      "ACCURACY PT: 99.8625% out of 8000 texts analyzed\n",
      "ACCURACY ES: 99.58749999999999% out of 8000 texts analyzed\n",
      "ACCURACY IN: 99.9375% out of 8000 texts analyzed\n",
      "ACCURACY FR: 99.9375% out of 8000 texts analyzed\n",
      "ACCURACY IT: 99.7% out of 8000 texts analyzed\n",
      "ACCURACY AL: 99.58749999999999% out of 8000 texts analyzed\n",
      "ACCURACY RU: 99.91250000000001% out of 8000 texts analyzed\n",
      "ACCURACY AR: 99.4875% out of 8000 texts analyzed\n",
      "ACCURACY HI: 99.97500000000001% out of 8000 texts analyzed\n"
     ]
    }
   ],
   "source": [
    "test_results = {}\n",
    "\n",
    "for key in language_models_dict:\n",
    "    \n",
    "    test_detected_list = language_detection(language_models_dict[key][1])\n",
    "    test_results.update({key:test_detected_list})\n",
    "    \n",
    "for key in test_results:\n",
    "    print(f'ACCURACY {key}: {(test_results[key].count(key)/len(test_results[key]) * 100)}% out of {len(test_results[key])} texts analyzed')"
   ]
  },
  {
   "cell_type": "markdown",
   "metadata": {},
   "source": [
    "# Detectando idiomas nos Tweets"
   ]
  },
  {
   "cell_type": "code",
   "execution_count": 158,
   "metadata": {},
   "outputs": [
    {
     "data": {
      "text/html": [
       "<div>\n",
       "<style scoped>\n",
       "    .dataframe tbody tr th:only-of-type {\n",
       "        vertical-align: middle;\n",
       "    }\n",
       "\n",
       "    .dataframe tbody tr th {\n",
       "        vertical-align: top;\n",
       "    }\n",
       "\n",
       "    .dataframe thead th {\n",
       "        text-align: right;\n",
       "    }\n",
       "</style>\n",
       "<table border=\"1\" class=\"dataframe\">\n",
       "  <thead>\n",
       "    <tr style=\"text-align: right;\">\n",
       "      <th></th>\n",
       "      <th>date</th>\n",
       "      <th>text</th>\n",
       "    </tr>\n",
       "  </thead>\n",
       "  <tbody>\n",
       "    <tr>\n",
       "      <th>0</th>\n",
       "      <td>2020-09-17</td>\n",
       "      <td>3️⃣...2️⃣...1️⃣...GO‼️ 🏆 Voting is now open in...</td>\n",
       "    </tr>\n",
       "    <tr>\n",
       "      <th>1</th>\n",
       "      <td>2020-10-02</td>\n",
       "      <td>“Our commitment from 25 years ago still remain...</td>\n",
       "    </tr>\n",
       "    <tr>\n",
       "      <th>2</th>\n",
       "      <td>2020-10-02</td>\n",
       "      <td>As speakers said again and again during #UNGA ...</td>\n",
       "    </tr>\n",
       "    <tr>\n",
       "      <th>3</th>\n",
       "      <td>2020-10-02</td>\n",
       "      <td>From our member @carecanada CARE’s new report ...</td>\n",
       "    </tr>\n",
       "    <tr>\n",
       "      <th>4</th>\n",
       "      <td>2020-10-02</td>\n",
       "      <td>@WorldResources experts sum up the outcomes fr...</td>\n",
       "    </tr>\n",
       "    <tr>\n",
       "      <th>...</th>\n",
       "      <td>...</td>\n",
       "      <td>...</td>\n",
       "    </tr>\n",
       "    <tr>\n",
       "      <th>49530</th>\n",
       "      <td>2020-09-23</td>\n",
       "      <td>I’m not ready for this 🥺 This is my first time...</td>\n",
       "    </tr>\n",
       "    <tr>\n",
       "      <th>49531</th>\n",
       "      <td>2020-09-23</td>\n",
       "      <td>Idk why that whole who’s gonna speak thing was...</td>\n",
       "    </tr>\n",
       "    <tr>\n",
       "      <th>49532</th>\n",
       "      <td>2020-09-23</td>\n",
       "      <td>BTS NEXT YALL 😭😭😭😭😭😭#BTSUNSpeech #BTSxUNGA #BT...</td>\n",
       "    </tr>\n",
       "    <tr>\n",
       "      <th>49533</th>\n",
       "      <td>2020-09-23</td>\n",
       "      <td>Okay now i think the live crashed omfg #UNGA</td>\n",
       "    </tr>\n",
       "    <tr>\n",
       "      <th>49534</th>\n",
       "      <td>2020-09-23</td>\n",
       "      <td>#RDC #UNGA : devant l’assemblée générale, le P...</td>\n",
       "    </tr>\n",
       "  </tbody>\n",
       "</table>\n",
       "<p>49535 rows × 2 columns</p>\n",
       "</div>"
      ],
      "text/plain": [
       "             date                                               text\n",
       "0      2020-09-17  3️⃣...2️⃣...1️⃣...GO‼️ 🏆 Voting is now open in...\n",
       "1      2020-10-02  “Our commitment from 25 years ago still remain...\n",
       "2      2020-10-02  As speakers said again and again during #UNGA ...\n",
       "3      2020-10-02  From our member @carecanada CARE’s new report ...\n",
       "4      2020-10-02  @WorldResources experts sum up the outcomes fr...\n",
       "...           ...                                                ...\n",
       "49530  2020-09-23  I’m not ready for this 🥺 This is my first time...\n",
       "49531  2020-09-23  Idk why that whole who’s gonna speak thing was...\n",
       "49532  2020-09-23  BTS NEXT YALL 😭😭😭😭😭😭#BTSUNSpeech #BTSxUNGA #BT...\n",
       "49533  2020-09-23       Okay now i think the live crashed omfg #UNGA\n",
       "49534  2020-09-23  #RDC #UNGA : devant l’assemblée générale, le P...\n",
       "\n",
       "[49535 rows x 2 columns]"
      ]
     },
     "execution_count": 158,
     "metadata": {},
     "output_type": "execute_result"
    }
   ],
   "source": [
    "df_tweets = pd.read_csv('UNGA_tweets.csv', index_col=None, header=0, engine='python')\n",
    "df_tweets = df_tweets[['date', 'text']]\n",
    "df_tweets"
   ]
  },
  {
   "cell_type": "markdown",
   "metadata": {},
   "source": [
    "## Limpando e selecionando a data de análise"
   ]
  },
  {
   "cell_type": "code",
   "execution_count": 159,
   "metadata": {},
   "outputs": [
    {
     "name": "stdout",
     "output_type": "stream",
     "text": [
      "Primeiro registro:  2020-01-04\n",
      "Último registro:  ['#UNGA']\n"
     ]
    }
   ],
   "source": [
    "print('Primeiro registro: ',df_tweets['date'].min())\n",
    "print('Último registro: ',df_tweets['date'].max())"
   ]
  },
  {
   "cell_type": "code",
   "execution_count": 160,
   "metadata": {},
   "outputs": [
    {
     "name": "stdout",
     "output_type": "stream",
     "text": [
      "2020-09-17 00:00:00\n",
      "<class 'datetime.datetime'>\n"
     ]
    }
   ],
   "source": [
    "date_object = []\n",
    "\n",
    "for date in df_tweets['date']:\n",
    "    \n",
    "    try:\n",
    "        date = datetime.datetime.strptime(date, \"%Y-%m-%d\")\n",
    "        date_object.append(date)\n",
    "    \n",
    "    except:\n",
    "        date_object.append(True)\n",
    "        \n",
    "df_tweets['date'] = date_object\n",
    "\n",
    "print(df_tweets['date'][0])\n",
    "print(type(df_tweets['date'][0]))"
   ]
  },
  {
   "cell_type": "code",
   "execution_count": 161,
   "metadata": {},
   "outputs": [
    {
     "name": "stdout",
     "output_type": "stream",
     "text": [
      "<class 'datetime.datetime'>\n",
      "(49533, 3)\n"
     ]
    }
   ],
   "source": [
    "date_bol = []\n",
    "\n",
    "for item in df_tweets['date']:\n",
    "    if type(item) == datetime.datetime:\n",
    "        date_bol.append(True)\n",
    "        \n",
    "    else:\n",
    "        date_bol.append(False)\n",
    "        \n",
    "df_tweets['date_bol'] = date_bol\n",
    "df_tweets = df_tweets.query('date_bol == True')\n",
    "\n",
    "print(type(df_tweets['date'][0]))\n",
    "print(df_tweets.shape)"
   ]
  },
  {
   "cell_type": "code",
   "execution_count": 162,
   "metadata": {},
   "outputs": [
    {
     "name": "stdout",
     "output_type": "stream",
     "text": [
      "Primeiro registro:  2020-01-04 00:00:00\n",
      "Último registro:  2020-10-02 00:00:00\n"
     ]
    }
   ],
   "source": [
    "print('Primeiro registro: ',df_tweets['date'].min())\n",
    "print('Último registro: ',df_tweets['date'].max())"
   ]
  },
  {
   "cell_type": "code",
   "execution_count": 163,
   "metadata": {},
   "outputs": [],
   "source": [
    "df_tweets = df_tweets[(df_tweets['date']>=datetime.datetime(2020,9,17)) & (df_tweets['date']<=datetime.datetime(2020,9,30))]"
   ]
  },
  {
   "cell_type": "code",
   "execution_count": 164,
   "metadata": {},
   "outputs": [
    {
     "name": "stdout",
     "output_type": "stream",
     "text": [
      "(48096, 3)\n",
      "Primeiro registro:  2020-09-17 00:00:00\n",
      "Último registro:  2020-09-30 00:00:00\n"
     ]
    }
   ],
   "source": [
    "print(df_tweets.shape)\n",
    "print('Primeiro registro: ',df_tweets['date'].min())\n",
    "print('Último registro: ',df_tweets['date'].max())"
   ]
  },
  {
   "cell_type": "markdown",
   "metadata": {},
   "source": [
    "### Regex para remover hashtags"
   ]
  },
  {
   "cell_type": "code",
   "execution_count": 165,
   "metadata": {},
   "outputs": [],
   "source": [
    "text_cleaner(df_tweets, 'text')"
   ]
  },
  {
   "cell_type": "code",
   "execution_count": 166,
   "metadata": {},
   "outputs": [],
   "source": [
    "language = language_detection(df_tweets['clean_text'])\n",
    "df_tweets['language'] = language"
   ]
  },
  {
   "cell_type": "code",
   "execution_count": 167,
   "metadata": {},
   "outputs": [],
   "source": [
    "counter = 0"
   ]
  },
  {
   "cell_type": "code",
   "execution_count": 168,
   "metadata": {},
   "outputs": [
    {
     "name": "stdout",
     "output_type": "stream",
     "text": [
      "IN\n",
      "****\n",
      "3️⃣...2️⃣...1️⃣...GO‼️ 🏆 Voting is now open in the #GoodID Awards! 🏆 Check out the nominees and cast your vote here: good-id.org/en/awards/2020/#GoodID👍🆔\n",
      "***\n",
      "go voting is now open in the awards check out the nominees and cast your vote here goodidorgenawards\n",
      "***\n"
     ]
    }
   ],
   "source": [
    "print(df_tweets['language'][counter])\n",
    "print('****')\n",
    "print(df_tweets['text'][counter])\n",
    "print('***')\n",
    "print(df_tweets['clean_text'][counter])\n",
    "print('***')\n",
    "counter += 1"
   ]
  },
  {
   "cell_type": "markdown",
   "metadata": {},
   "source": [
    "### Visualizando os idiomas em termos absolutos"
   ]
  },
  {
   "cell_type": "code",
   "execution_count": 169,
   "metadata": {},
   "outputs": [
    {
     "data": {
      "text/plain": [
       "['IN',\n",
       " 'Other Languages',\n",
       " 'AR',\n",
       " 'ES',\n",
       " 'FR',\n",
       " 'RU',\n",
       " 'PT',\n",
       " 'AL',\n",
       " 'HI',\n",
       " 'Empty',\n",
       " 'IT']"
      ]
     },
     "execution_count": 169,
     "metadata": {},
     "output_type": "execute_result"
    }
   ],
   "source": [
    "detected_language_list = list(df_tweets['language'].unique())\n",
    "detected_language_list"
   ]
  },
  {
   "cell_type": "code",
   "execution_count": 170,
   "metadata": {},
   "outputs": [],
   "source": [
    "for item in detected_language_list:\n",
    "    df = df_tweets.query(f\"language == '{item}'\")\n",
    "    df.to_csv(f'./dfs_detected_languages/df_tweets_{item}.csv', index = False)"
   ]
  },
  {
   "cell_type": "code",
   "execution_count": 171,
   "metadata": {},
   "outputs": [
    {
     "data": {
      "text/html": [
       "<div>\n",
       "<style scoped>\n",
       "    .dataframe tbody tr th:only-of-type {\n",
       "        vertical-align: middle;\n",
       "    }\n",
       "\n",
       "    .dataframe tbody tr th {\n",
       "        vertical-align: top;\n",
       "    }\n",
       "\n",
       "    .dataframe thead th {\n",
       "        text-align: right;\n",
       "    }\n",
       "</style>\n",
       "<table border=\"1\" class=\"dataframe\">\n",
       "  <thead>\n",
       "    <tr style=\"text-align: right;\">\n",
       "      <th></th>\n",
       "      <th>language</th>\n",
       "      <th>tweet</th>\n",
       "    </tr>\n",
       "  </thead>\n",
       "  <tbody>\n",
       "    <tr>\n",
       "      <th>6</th>\n",
       "      <td>IN</td>\n",
       "      <td>31863</td>\n",
       "    </tr>\n",
       "    <tr>\n",
       "      <th>2</th>\n",
       "      <td>ES</td>\n",
       "      <td>6426</td>\n",
       "    </tr>\n",
       "    <tr>\n",
       "      <th>9</th>\n",
       "      <td>PT</td>\n",
       "      <td>2753</td>\n",
       "    </tr>\n",
       "    <tr>\n",
       "      <th>8</th>\n",
       "      <td>Other Languages</td>\n",
       "      <td>1971</td>\n",
       "    </tr>\n",
       "    <tr>\n",
       "      <th>3</th>\n",
       "      <td>Empty</td>\n",
       "      <td>1519</td>\n",
       "    </tr>\n",
       "    <tr>\n",
       "      <th>1</th>\n",
       "      <td>AR</td>\n",
       "      <td>1283</td>\n",
       "    </tr>\n",
       "    <tr>\n",
       "      <th>4</th>\n",
       "      <td>FR</td>\n",
       "      <td>913</td>\n",
       "    </tr>\n",
       "    <tr>\n",
       "      <th>5</th>\n",
       "      <td>HI</td>\n",
       "      <td>746</td>\n",
       "    </tr>\n",
       "    <tr>\n",
       "      <th>7</th>\n",
       "      <td>IT</td>\n",
       "      <td>251</td>\n",
       "    </tr>\n",
       "    <tr>\n",
       "      <th>0</th>\n",
       "      <td>AL</td>\n",
       "      <td>248</td>\n",
       "    </tr>\n",
       "    <tr>\n",
       "      <th>10</th>\n",
       "      <td>RU</td>\n",
       "      <td>123</td>\n",
       "    </tr>\n",
       "  </tbody>\n",
       "</table>\n",
       "</div>"
      ],
      "text/plain": [
       "           language  tweet\n",
       "6                IN  31863\n",
       "2                ES   6426\n",
       "9                PT   2753\n",
       "8   Other Languages   1971\n",
       "3             Empty   1519\n",
       "1                AR   1283\n",
       "4                FR    913\n",
       "5                HI    746\n",
       "7                IT    251\n",
       "0                AL    248\n",
       "10               RU    123"
      ]
     },
     "execution_count": 171,
     "metadata": {},
     "output_type": "execute_result"
    }
   ],
   "source": [
    "df_tweets['tweet'] = 1\n",
    "df_language = df_tweets.groupby('language')['tweet'].count()\n",
    "df_language = df_language.reset_index().sort_values('tweet', ascending =False)\n",
    "df_language"
   ]
  },
  {
   "cell_type": "code",
   "execution_count": 172,
   "metadata": {},
   "outputs": [
    {
     "data": {
      "image/png": "[encoded data removed]",
      "text/plain": [
       "<Figure size 1296x720 with 1 Axes>"
      ]
     },
     "metadata": {},
     "output_type": "display_data"
    }
   ],
   "source": [
    "sns.set_style('white')\n",
    "sns.set_context('notebook')\n",
    "ax = sns.barplot(x='language', y='tweet', data=df_language, color ='indianred')\n",
    "ax.figure.set_size_inches(18,10)\n",
    "ax.set_title('LANGUAGES', fontsize=30, fontweight='bold' , color='sienna' ,loc='left')\n",
    "ax.set_xlabel('LANGUAGES', fontsize=14)\n",
    "ax.set_ylabel('TWEETS', fontsize=14)\n",
    "ax.set_facecolor('navajowhite')\n",
    "ax = ax"
   ]
  },
  {
   "cell_type": "markdown",
   "metadata": {},
   "source": [
    "## Visualizando evolução das línguas no tempo"
   ]
  },
  {
   "cell_type": "markdown",
   "metadata": {},
   "source": [
    "### Criando tabelas de series temporais por língua"
   ]
  },
  {
   "cell_type": "code",
   "execution_count": 173,
   "metadata": {},
   "outputs": [],
   "source": [
    "languages = list(df_tweets['language'].unique())\n",
    "\n",
    "languages_dict = {}\n",
    "\n",
    "for item in languages:\n",
    "    df_language = df_tweets.query(f\"language == '{item}'\")\n",
    "    df_language = df_language.groupby(['date'])['text'].count()\n",
    "    languages_dict.update({item:df_language})\n",
    "    \n",
    "df_language = pd.DataFrame(languages_dict)"
   ]
  },
  {
   "cell_type": "code",
   "execution_count": 174,
   "metadata": {},
   "outputs": [],
   "source": [
    "df_language = df_language.fillna(0)"
   ]
  },
  {
   "cell_type": "code",
   "execution_count": 175,
   "metadata": {},
   "outputs": [],
   "source": [
    "df_language = df_language.reset_index()\n",
    "\n",
    "date_only = []\n",
    "\n",
    "for item in df_language['date']:\n",
    "    date = item.date()\n",
    "    date_only.append(date)\n",
    "\n",
    "df_language['date'] = date_only\n",
    "df_language = df_language.set_index('date')\n",
    "df_language = df_language.T"
   ]
  },
  {
   "cell_type": "code",
   "execution_count": 176,
   "metadata": {},
   "outputs": [
    {
     "data": {
      "text/html": [
       "<div>\n",
       "<style scoped>\n",
       "    .dataframe tbody tr th:only-of-type {\n",
       "        vertical-align: middle;\n",
       "    }\n",
       "\n",
       "    .dataframe tbody tr th {\n",
       "        vertical-align: top;\n",
       "    }\n",
       "\n",
       "    .dataframe thead th {\n",
       "        text-align: right;\n",
       "    }\n",
       "</style>\n",
       "<table border=\"1\" class=\"dataframe\">\n",
       "  <thead>\n",
       "    <tr style=\"text-align: right;\">\n",
       "      <th>date</th>\n",
       "      <th>2020-09-17</th>\n",
       "      <th>2020-09-18</th>\n",
       "      <th>2020-09-20</th>\n",
       "      <th>2020-09-23</th>\n",
       "      <th>2020-09-24</th>\n",
       "      <th>2020-09-25</th>\n",
       "      <th>2020-09-26</th>\n",
       "      <th>2020-09-27</th>\n",
       "      <th>2020-09-28</th>\n",
       "      <th>2020-09-29</th>\n",
       "      <th>2020-09-30</th>\n",
       "    </tr>\n",
       "  </thead>\n",
       "  <tbody>\n",
       "    <tr>\n",
       "      <th>IN</th>\n",
       "      <td>440.0</td>\n",
       "      <td>9.0</td>\n",
       "      <td>6.0</td>\n",
       "      <td>15758.0</td>\n",
       "      <td>2926.0</td>\n",
       "      <td>5155.0</td>\n",
       "      <td>3805.0</td>\n",
       "      <td>776.0</td>\n",
       "      <td>819.0</td>\n",
       "      <td>1193.0</td>\n",
       "      <td>976.0</td>\n",
       "    </tr>\n",
       "    <tr>\n",
       "      <th>Other Languages</th>\n",
       "      <td>0.0</td>\n",
       "      <td>0.0</td>\n",
       "      <td>0.0</td>\n",
       "      <td>1154.0</td>\n",
       "      <td>125.0</td>\n",
       "      <td>264.0</td>\n",
       "      <td>248.0</td>\n",
       "      <td>66.0</td>\n",
       "      <td>41.0</td>\n",
       "      <td>35.0</td>\n",
       "      <td>38.0</td>\n",
       "    </tr>\n",
       "    <tr>\n",
       "      <th>AR</th>\n",
       "      <td>0.0</td>\n",
       "      <td>0.0</td>\n",
       "      <td>0.0</td>\n",
       "      <td>147.0</td>\n",
       "      <td>124.0</td>\n",
       "      <td>733.0</td>\n",
       "      <td>162.0</td>\n",
       "      <td>32.0</td>\n",
       "      <td>17.0</td>\n",
       "      <td>26.0</td>\n",
       "      <td>42.0</td>\n",
       "    </tr>\n",
       "    <tr>\n",
       "      <th>ES</th>\n",
       "      <td>0.0</td>\n",
       "      <td>0.0</td>\n",
       "      <td>0.0</td>\n",
       "      <td>4452.0</td>\n",
       "      <td>661.0</td>\n",
       "      <td>450.0</td>\n",
       "      <td>220.0</td>\n",
       "      <td>132.0</td>\n",
       "      <td>140.0</td>\n",
       "      <td>200.0</td>\n",
       "      <td>171.0</td>\n",
       "    </tr>\n",
       "    <tr>\n",
       "      <th>FR</th>\n",
       "      <td>0.0</td>\n",
       "      <td>0.0</td>\n",
       "      <td>0.0</td>\n",
       "      <td>388.0</td>\n",
       "      <td>187.0</td>\n",
       "      <td>136.0</td>\n",
       "      <td>49.0</td>\n",
       "      <td>22.0</td>\n",
       "      <td>36.0</td>\n",
       "      <td>40.0</td>\n",
       "      <td>55.0</td>\n",
       "    </tr>\n",
       "    <tr>\n",
       "      <th>RU</th>\n",
       "      <td>0.0</td>\n",
       "      <td>0.0</td>\n",
       "      <td>0.0</td>\n",
       "      <td>73.0</td>\n",
       "      <td>11.0</td>\n",
       "      <td>15.0</td>\n",
       "      <td>6.0</td>\n",
       "      <td>3.0</td>\n",
       "      <td>8.0</td>\n",
       "      <td>0.0</td>\n",
       "      <td>7.0</td>\n",
       "    </tr>\n",
       "    <tr>\n",
       "      <th>PT</th>\n",
       "      <td>0.0</td>\n",
       "      <td>0.0</td>\n",
       "      <td>0.0</td>\n",
       "      <td>2313.0</td>\n",
       "      <td>113.0</td>\n",
       "      <td>144.0</td>\n",
       "      <td>109.0</td>\n",
       "      <td>18.0</td>\n",
       "      <td>13.0</td>\n",
       "      <td>21.0</td>\n",
       "      <td>22.0</td>\n",
       "    </tr>\n",
       "    <tr>\n",
       "      <th>AL</th>\n",
       "      <td>0.0</td>\n",
       "      <td>0.0</td>\n",
       "      <td>0.0</td>\n",
       "      <td>103.0</td>\n",
       "      <td>19.0</td>\n",
       "      <td>38.0</td>\n",
       "      <td>18.0</td>\n",
       "      <td>16.0</td>\n",
       "      <td>26.0</td>\n",
       "      <td>8.0</td>\n",
       "      <td>20.0</td>\n",
       "    </tr>\n",
       "    <tr>\n",
       "      <th>HI</th>\n",
       "      <td>0.0</td>\n",
       "      <td>0.0</td>\n",
       "      <td>0.0</td>\n",
       "      <td>29.0</td>\n",
       "      <td>32.0</td>\n",
       "      <td>136.0</td>\n",
       "      <td>490.0</td>\n",
       "      <td>40.0</td>\n",
       "      <td>10.0</td>\n",
       "      <td>7.0</td>\n",
       "      <td>2.0</td>\n",
       "    </tr>\n",
       "    <tr>\n",
       "      <th>Empty</th>\n",
       "      <td>0.0</td>\n",
       "      <td>0.0</td>\n",
       "      <td>0.0</td>\n",
       "      <td>1035.0</td>\n",
       "      <td>75.0</td>\n",
       "      <td>150.0</td>\n",
       "      <td>123.0</td>\n",
       "      <td>63.0</td>\n",
       "      <td>32.0</td>\n",
       "      <td>19.0</td>\n",
       "      <td>22.0</td>\n",
       "    </tr>\n",
       "    <tr>\n",
       "      <th>IT</th>\n",
       "      <td>0.0</td>\n",
       "      <td>0.0</td>\n",
       "      <td>0.0</td>\n",
       "      <td>159.0</td>\n",
       "      <td>17.0</td>\n",
       "      <td>33.0</td>\n",
       "      <td>20.0</td>\n",
       "      <td>6.0</td>\n",
       "      <td>10.0</td>\n",
       "      <td>4.0</td>\n",
       "      <td>2.0</td>\n",
       "    </tr>\n",
       "  </tbody>\n",
       "</table>\n",
       "</div>"
      ],
      "text/plain": [
       "date             2020-09-17  2020-09-18  2020-09-20  2020-09-23  2020-09-24  \\\n",
       "IN                    440.0         9.0         6.0     15758.0      2926.0   \n",
       "Other Languages         0.0         0.0         0.0      1154.0       125.0   \n",
       "AR                      0.0         0.0         0.0       147.0       124.0   \n",
       "ES                      0.0         0.0         0.0      4452.0       661.0   \n",
       "FR                      0.0         0.0         0.0       388.0       187.0   \n",
       "RU                      0.0         0.0         0.0        73.0        11.0   \n",
       "PT                      0.0         0.0         0.0      2313.0       113.0   \n",
       "AL                      0.0         0.0         0.0       103.0        19.0   \n",
       "HI                      0.0         0.0         0.0        29.0        32.0   \n",
       "Empty                   0.0         0.0         0.0      1035.0        75.0   \n",
       "IT                      0.0         0.0         0.0       159.0        17.0   \n",
       "\n",
       "date             2020-09-25  2020-09-26  2020-09-27  2020-09-28  2020-09-29  \\\n",
       "IN                   5155.0      3805.0       776.0       819.0      1193.0   \n",
       "Other Languages       264.0       248.0        66.0        41.0        35.0   \n",
       "AR                    733.0       162.0        32.0        17.0        26.0   \n",
       "ES                    450.0       220.0       132.0       140.0       200.0   \n",
       "FR                    136.0        49.0        22.0        36.0        40.0   \n",
       "RU                     15.0         6.0         3.0         8.0         0.0   \n",
       "PT                    144.0       109.0        18.0        13.0        21.0   \n",
       "AL                     38.0        18.0        16.0        26.0         8.0   \n",
       "HI                    136.0       490.0        40.0        10.0         7.0   \n",
       "Empty                 150.0       123.0        63.0        32.0        19.0   \n",
       "IT                     33.0        20.0         6.0        10.0         4.0   \n",
       "\n",
       "date             2020-09-30  \n",
       "IN                    976.0  \n",
       "Other Languages        38.0  \n",
       "AR                     42.0  \n",
       "ES                    171.0  \n",
       "FR                     55.0  \n",
       "RU                      7.0  \n",
       "PT                     22.0  \n",
       "AL                     20.0  \n",
       "HI                      2.0  \n",
       "Empty                  22.0  \n",
       "IT                      2.0  "
      ]
     },
     "execution_count": 176,
     "metadata": {},
     "output_type": "execute_result"
    }
   ],
   "source": [
    "df_language"
   ]
  },
  {
   "cell_type": "code",
   "execution_count": 177,
   "metadata": {},
   "outputs": [
    {
     "data": {
      "text/html": [
       "<div>\n",
       "<style scoped>\n",
       "    .dataframe tbody tr th:only-of-type {\n",
       "        vertical-align: middle;\n",
       "    }\n",
       "\n",
       "    .dataframe tbody tr th {\n",
       "        vertical-align: top;\n",
       "    }\n",
       "\n",
       "    .dataframe thead th {\n",
       "        text-align: right;\n",
       "    }\n",
       "</style>\n",
       "<table border=\"1\" class=\"dataframe\">\n",
       "  <thead>\n",
       "    <tr style=\"text-align: right;\">\n",
       "      <th></th>\n",
       "      <th>date</th>\n",
       "      <th>IN</th>\n",
       "      <th>Other Languages</th>\n",
       "      <th>AR</th>\n",
       "      <th>ES</th>\n",
       "      <th>FR</th>\n",
       "      <th>RU</th>\n",
       "      <th>PT</th>\n",
       "      <th>AL</th>\n",
       "      <th>HI</th>\n",
       "      <th>Empty</th>\n",
       "      <th>IT</th>\n",
       "    </tr>\n",
       "  </thead>\n",
       "  <tbody>\n",
       "    <tr>\n",
       "      <th>0</th>\n",
       "      <td>2020-09-17</td>\n",
       "      <td>440.0</td>\n",
       "      <td>0.0</td>\n",
       "      <td>0.0</td>\n",
       "      <td>0.0</td>\n",
       "      <td>0.0</td>\n",
       "      <td>0.0</td>\n",
       "      <td>0.0</td>\n",
       "      <td>0.0</td>\n",
       "      <td>0.0</td>\n",
       "      <td>0.0</td>\n",
       "      <td>0.0</td>\n",
       "    </tr>\n",
       "    <tr>\n",
       "      <th>1</th>\n",
       "      <td>2020-09-18</td>\n",
       "      <td>9.0</td>\n",
       "      <td>0.0</td>\n",
       "      <td>0.0</td>\n",
       "      <td>0.0</td>\n",
       "      <td>0.0</td>\n",
       "      <td>0.0</td>\n",
       "      <td>0.0</td>\n",
       "      <td>0.0</td>\n",
       "      <td>0.0</td>\n",
       "      <td>0.0</td>\n",
       "      <td>0.0</td>\n",
       "    </tr>\n",
       "    <tr>\n",
       "      <th>2</th>\n",
       "      <td>2020-09-20</td>\n",
       "      <td>6.0</td>\n",
       "      <td>0.0</td>\n",
       "      <td>0.0</td>\n",
       "      <td>0.0</td>\n",
       "      <td>0.0</td>\n",
       "      <td>0.0</td>\n",
       "      <td>0.0</td>\n",
       "      <td>0.0</td>\n",
       "      <td>0.0</td>\n",
       "      <td>0.0</td>\n",
       "      <td>0.0</td>\n",
       "    </tr>\n",
       "    <tr>\n",
       "      <th>3</th>\n",
       "      <td>2020-09-23</td>\n",
       "      <td>15758.0</td>\n",
       "      <td>1154.0</td>\n",
       "      <td>147.0</td>\n",
       "      <td>4452.0</td>\n",
       "      <td>388.0</td>\n",
       "      <td>73.0</td>\n",
       "      <td>2313.0</td>\n",
       "      <td>103.0</td>\n",
       "      <td>29.0</td>\n",
       "      <td>1035.0</td>\n",
       "      <td>159.0</td>\n",
       "    </tr>\n",
       "    <tr>\n",
       "      <th>4</th>\n",
       "      <td>2020-09-24</td>\n",
       "      <td>2926.0</td>\n",
       "      <td>125.0</td>\n",
       "      <td>124.0</td>\n",
       "      <td>661.0</td>\n",
       "      <td>187.0</td>\n",
       "      <td>11.0</td>\n",
       "      <td>113.0</td>\n",
       "      <td>19.0</td>\n",
       "      <td>32.0</td>\n",
       "      <td>75.0</td>\n",
       "      <td>17.0</td>\n",
       "    </tr>\n",
       "    <tr>\n",
       "      <th>5</th>\n",
       "      <td>2020-09-25</td>\n",
       "      <td>5155.0</td>\n",
       "      <td>264.0</td>\n",
       "      <td>733.0</td>\n",
       "      <td>450.0</td>\n",
       "      <td>136.0</td>\n",
       "      <td>15.0</td>\n",
       "      <td>144.0</td>\n",
       "      <td>38.0</td>\n",
       "      <td>136.0</td>\n",
       "      <td>150.0</td>\n",
       "      <td>33.0</td>\n",
       "    </tr>\n",
       "    <tr>\n",
       "      <th>6</th>\n",
       "      <td>2020-09-26</td>\n",
       "      <td>3805.0</td>\n",
       "      <td>248.0</td>\n",
       "      <td>162.0</td>\n",
       "      <td>220.0</td>\n",
       "      <td>49.0</td>\n",
       "      <td>6.0</td>\n",
       "      <td>109.0</td>\n",
       "      <td>18.0</td>\n",
       "      <td>490.0</td>\n",
       "      <td>123.0</td>\n",
       "      <td>20.0</td>\n",
       "    </tr>\n",
       "    <tr>\n",
       "      <th>7</th>\n",
       "      <td>2020-09-27</td>\n",
       "      <td>776.0</td>\n",
       "      <td>66.0</td>\n",
       "      <td>32.0</td>\n",
       "      <td>132.0</td>\n",
       "      <td>22.0</td>\n",
       "      <td>3.0</td>\n",
       "      <td>18.0</td>\n",
       "      <td>16.0</td>\n",
       "      <td>40.0</td>\n",
       "      <td>63.0</td>\n",
       "      <td>6.0</td>\n",
       "    </tr>\n",
       "    <tr>\n",
       "      <th>8</th>\n",
       "      <td>2020-09-28</td>\n",
       "      <td>819.0</td>\n",
       "      <td>41.0</td>\n",
       "      <td>17.0</td>\n",
       "      <td>140.0</td>\n",
       "      <td>36.0</td>\n",
       "      <td>8.0</td>\n",
       "      <td>13.0</td>\n",
       "      <td>26.0</td>\n",
       "      <td>10.0</td>\n",
       "      <td>32.0</td>\n",
       "      <td>10.0</td>\n",
       "    </tr>\n",
       "    <tr>\n",
       "      <th>9</th>\n",
       "      <td>2020-09-29</td>\n",
       "      <td>1193.0</td>\n",
       "      <td>35.0</td>\n",
       "      <td>26.0</td>\n",
       "      <td>200.0</td>\n",
       "      <td>40.0</td>\n",
       "      <td>0.0</td>\n",
       "      <td>21.0</td>\n",
       "      <td>8.0</td>\n",
       "      <td>7.0</td>\n",
       "      <td>19.0</td>\n",
       "      <td>4.0</td>\n",
       "    </tr>\n",
       "    <tr>\n",
       "      <th>10</th>\n",
       "      <td>2020-09-30</td>\n",
       "      <td>976.0</td>\n",
       "      <td>38.0</td>\n",
       "      <td>42.0</td>\n",
       "      <td>171.0</td>\n",
       "      <td>55.0</td>\n",
       "      <td>7.0</td>\n",
       "      <td>22.0</td>\n",
       "      <td>20.0</td>\n",
       "      <td>2.0</td>\n",
       "      <td>22.0</td>\n",
       "      <td>2.0</td>\n",
       "    </tr>\n",
       "  </tbody>\n",
       "</table>\n",
       "</div>"
      ],
      "text/plain": [
       "          date       IN  Other Languages     AR      ES     FR    RU      PT  \\\n",
       "0   2020-09-17    440.0              0.0    0.0     0.0    0.0   0.0     0.0   \n",
       "1   2020-09-18      9.0              0.0    0.0     0.0    0.0   0.0     0.0   \n",
       "2   2020-09-20      6.0              0.0    0.0     0.0    0.0   0.0     0.0   \n",
       "3   2020-09-23  15758.0           1154.0  147.0  4452.0  388.0  73.0  2313.0   \n",
       "4   2020-09-24   2926.0            125.0  124.0   661.0  187.0  11.0   113.0   \n",
       "5   2020-09-25   5155.0            264.0  733.0   450.0  136.0  15.0   144.0   \n",
       "6   2020-09-26   3805.0            248.0  162.0   220.0   49.0   6.0   109.0   \n",
       "7   2020-09-27    776.0             66.0   32.0   132.0   22.0   3.0    18.0   \n",
       "8   2020-09-28    819.0             41.0   17.0   140.0   36.0   8.0    13.0   \n",
       "9   2020-09-29   1193.0             35.0   26.0   200.0   40.0   0.0    21.0   \n",
       "10  2020-09-30    976.0             38.0   42.0   171.0   55.0   7.0    22.0   \n",
       "\n",
       "       AL     HI   Empty     IT  \n",
       "0     0.0    0.0     0.0    0.0  \n",
       "1     0.0    0.0     0.0    0.0  \n",
       "2     0.0    0.0     0.0    0.0  \n",
       "3   103.0   29.0  1035.0  159.0  \n",
       "4    19.0   32.0    75.0   17.0  \n",
       "5    38.0  136.0   150.0   33.0  \n",
       "6    18.0  490.0   123.0   20.0  \n",
       "7    16.0   40.0    63.0    6.0  \n",
       "8    26.0   10.0    32.0   10.0  \n",
       "9     8.0    7.0    19.0    4.0  \n",
       "10   20.0    2.0    22.0    2.0  "
      ]
     },
     "execution_count": 177,
     "metadata": {},
     "output_type": "execute_result"
    }
   ],
   "source": [
    "df_language = df_language.T\n",
    "df_language = df_language.reset_index()\n",
    "df_language"
   ]
  },
  {
   "cell_type": "code",
   "execution_count": 178,
   "metadata": {},
   "outputs": [
    {
     "data": {
      "text/plain": [
       "['IN',\n",
       " 'Other Languages',\n",
       " 'AR',\n",
       " 'ES',\n",
       " 'FR',\n",
       " 'RU',\n",
       " 'PT',\n",
       " 'AL',\n",
       " 'HI',\n",
       " 'Empty',\n",
       " 'IT']"
      ]
     },
     "execution_count": 178,
     "metadata": {},
     "output_type": "execute_result"
    }
   ],
   "source": [
    "lg = list(df_language.columns)[1:]\n",
    "lg"
   ]
  },
  {
   "cell_type": "code",
   "execution_count": 179,
   "metadata": {},
   "outputs": [
    {
     "data": {
      "text/html": [
       "<div>\n",
       "<style scoped>\n",
       "    .dataframe tbody tr th:only-of-type {\n",
       "        vertical-align: middle;\n",
       "    }\n",
       "\n",
       "    .dataframe tbody tr th {\n",
       "        vertical-align: top;\n",
       "    }\n",
       "\n",
       "    .dataframe thead th {\n",
       "        text-align: right;\n",
       "    }\n",
       "</style>\n",
       "<table border=\"1\" class=\"dataframe\">\n",
       "  <thead>\n",
       "    <tr style=\"text-align: right;\">\n",
       "      <th></th>\n",
       "      <th>date</th>\n",
       "      <th>languages</th>\n",
       "      <th>tweet</th>\n",
       "    </tr>\n",
       "  </thead>\n",
       "  <tbody>\n",
       "    <tr>\n",
       "      <th>0</th>\n",
       "      <td>2020-09-17</td>\n",
       "      <td>IN</td>\n",
       "      <td>440.0</td>\n",
       "    </tr>\n",
       "    <tr>\n",
       "      <th>1</th>\n",
       "      <td>2020-09-18</td>\n",
       "      <td>IN</td>\n",
       "      <td>9.0</td>\n",
       "    </tr>\n",
       "    <tr>\n",
       "      <th>2</th>\n",
       "      <td>2020-09-20</td>\n",
       "      <td>IN</td>\n",
       "      <td>6.0</td>\n",
       "    </tr>\n",
       "    <tr>\n",
       "      <th>3</th>\n",
       "      <td>2020-09-23</td>\n",
       "      <td>IN</td>\n",
       "      <td>15758.0</td>\n",
       "    </tr>\n",
       "    <tr>\n",
       "      <th>4</th>\n",
       "      <td>2020-09-24</td>\n",
       "      <td>IN</td>\n",
       "      <td>2926.0</td>\n",
       "    </tr>\n",
       "    <tr>\n",
       "      <th>...</th>\n",
       "      <td>...</td>\n",
       "      <td>...</td>\n",
       "      <td>...</td>\n",
       "    </tr>\n",
       "    <tr>\n",
       "      <th>116</th>\n",
       "      <td>2020-09-26</td>\n",
       "      <td>IT</td>\n",
       "      <td>20.0</td>\n",
       "    </tr>\n",
       "    <tr>\n",
       "      <th>117</th>\n",
       "      <td>2020-09-27</td>\n",
       "      <td>IT</td>\n",
       "      <td>6.0</td>\n",
       "    </tr>\n",
       "    <tr>\n",
       "      <th>118</th>\n",
       "      <td>2020-09-28</td>\n",
       "      <td>IT</td>\n",
       "      <td>10.0</td>\n",
       "    </tr>\n",
       "    <tr>\n",
       "      <th>119</th>\n",
       "      <td>2020-09-29</td>\n",
       "      <td>IT</td>\n",
       "      <td>4.0</td>\n",
       "    </tr>\n",
       "    <tr>\n",
       "      <th>120</th>\n",
       "      <td>2020-09-30</td>\n",
       "      <td>IT</td>\n",
       "      <td>2.0</td>\n",
       "    </tr>\n",
       "  </tbody>\n",
       "</table>\n",
       "<p>121 rows × 3 columns</p>\n",
       "</div>"
      ],
      "text/plain": [
       "           date languages    tweet\n",
       "0    2020-09-17        IN    440.0\n",
       "1    2020-09-18        IN      9.0\n",
       "2    2020-09-20        IN      6.0\n",
       "3    2020-09-23        IN  15758.0\n",
       "4    2020-09-24        IN   2926.0\n",
       "..          ...       ...      ...\n",
       "116  2020-09-26        IT     20.0\n",
       "117  2020-09-27        IT      6.0\n",
       "118  2020-09-28        IT     10.0\n",
       "119  2020-09-29        IT      4.0\n",
       "120  2020-09-30        IT      2.0\n",
       "\n",
       "[121 rows x 3 columns]"
      ]
     },
     "execution_count": 179,
     "metadata": {},
     "output_type": "execute_result"
    }
   ],
   "source": [
    "df_language = pd.melt(df_language, id_vars=['date'], value_vars=lg, var_name='languages', value_name='tweet')\n",
    "df_language"
   ]
  },
  {
   "cell_type": "code",
   "execution_count": 180,
   "metadata": {},
   "outputs": [
    {
     "data": {
      "image/png": "[encoded data removed]",
      "text/plain": [
       "<Figure size 1440x720 with 1 Axes>"
      ]
     },
     "metadata": {},
     "output_type": "display_data"
    }
   ],
   "source": [
    "sns.set_style('darkgrid')\n",
    "sns.set_context('notebook')\n",
    "ax = sns.lineplot(x='date', y='tweet', hue = 'languages', data=df_language, color ='indianred', linewidth = 3)\n",
    "ax.figure.set_size_inches(20,10)\n",
    "ax.set_title('LANGUAGES', fontsize=30, fontweight='bold' , color='sienna' ,loc='left')\n",
    "ax.set_xlabel('LANGUAGES', fontsize=14)\n",
    "ax.set_ylabel('TWEETS', fontsize=14)\n",
    "ax.set_facecolor('navajowhite')\n",
    "ax = ax"
   ]
  },
  {
   "cell_type": "code",
   "execution_count": null,
   "metadata": {},
   "outputs": [],
   "source": []
  }
 ],
 "metadata": {
  "kernelspec": {
   "display_name": "Python 3",
   "language": "python",
   "name": "python3"
  },
  "language_info": {
   "codemirror_mode": {
    "name": "ipython",
    "version": 3
   },
   "file_extension": ".py",
   "mimetype": "text/x-python",
   "name": "python",
   "nbconvert_exporter": "python",
   "pygments_lexer": "ipython3",
   "version": "3.7.6"
  }
 },
 "nbformat": 4,
 "nbformat_minor": 4
}
